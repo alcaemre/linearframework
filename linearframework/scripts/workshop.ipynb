{
 "cells": [
  {
   "cell_type": "code",
   "execution_count": 1,
   "metadata": {},
   "outputs": [],
   "source": [
    "import sympy as sp\n",
    "import networkx as nx\n",
    "import numpy as np\n",
    "from math import factorial\n",
    "import matplotlib.pyplot as plt\n",
    "import tqdm\n",
    "\n",
    "# import linearframework.graph_operations as g_ops\n",
    "import linearframework.ca_recurrence as ca\n",
    "import linearframework.linear_framework_results as lfr\n",
    "import linearframework.gen_graphs as gen\n",
    "from linearframework.linear_framework_graph import LinearFrameworkGraph"
   ]
  },
  {
   "cell_type": "markdown",
   "metadata": {},
   "source": [
    "## Implementing LinearFrameworkGraph class\n",
    "\n",
    "input: \n",
    "- list of edges\n",
    "generates:\n",
    "- [x] edge_to_sym dictionary\n",
    "- [x] symbolic laplacian from  edge_to_sym\n",
    "- [x] node list\n",
    "- [x] terminal node list\n",
    "- [ ] nx.digraph of graph (unweighted)"
   ]
  },
  {
   "cell_type": "code",
   "execution_count": 2,
   "metadata": {},
   "outputs": [],
   "source": [
    "k3_2t_edges = [\n",
    "    ('1', '2'),\n",
    "    ('1', '3'),\n",
    "    ('2', '1'),\n",
    "    ('2', '3'),\n",
    "    ('3', '1'),\n",
    "    ('3', '2'),\n",
    "    ('2', '4'),\n",
    "    ('3', '5')\n",
    "]\n",
    "\n",
    "k3_2t = LinearFrameworkGraph(k3_2t_edges)"
   ]
  },
  {
   "cell_type": "code",
   "execution_count": 18,
   "metadata": {},
   "outputs": [
    {
     "data": {
      "text/plain": [
       "{l_1: 0.2675738171685448,\n",
       " l_2: 0.13100364457749042,\n",
       " l_3: 0.0028367590886407114,\n",
       " l_4: 0.0013650593488426937,\n",
       " l_5: 8.466560769334917,\n",
       " l_6: 29.535024532766077}"
      ]
     },
     "execution_count": 18,
     "metadata": {},
     "output_type": "execute_result"
    }
   ],
   "source": [
    "k3_2t.make_sym_to_weight()"
   ]
  },
  {
   "cell_type": "code",
   "execution_count": 5,
   "metadata": {},
   "outputs": [],
   "source": [
    "def evaluate_at_many_points(graph, expression, num_samples):\n",
    "    \"\"\"evaluates the sympy expression for some linear framework result\n",
    "\n",
    "    Args:\n",
    "        edge_to_weight (dict[tuple[str]: float]): dict of edges in form {('v_1', 'v_2): w} where w is some positive number\n",
    "        edge_to_sym (dict[tuple[str]: float]): dict of edges in form {('v_1', 'v_2): l} where l is some sympy symbol\n",
    "        expression (sympy.core.mul.Mul): sympy expression\n",
    "        num_samples (int): number of samples desired\n",
    "\n",
    "    Returns:\n",
    "        list[float]: list of sampled datapoints\n",
    "    \"\"\"\n",
    "    if not isinstance(edge_to_sym, dict):\n",
    "        raise NotImplementedError(\"edge_to_sym must be a dictionary of edges to sympy symbols in the form {('v_1, 'v_2'): l_i} where l_i is a sympy symbol and 'v_1' and 'v_2' are the ids of vertices.\")\n",
    "    for key in edge_to_sym.keys():\n",
    "        if not isinstance(key, tuple) or not isinstance(key[0], str) or not isinstance(key[1], str) or len(key) != 2:\n",
    "            raise NotImplementedError(\"edge_to_sym must be a dictionary of edges to sympy symbols in the form {('v_1, 'v_2'): l_i} where l_i is a sympy symbol and 'v_1' and 'v_2' are the ids of vertices.\")\n",
    "        if not isinstance(edge_to_sym[key], sp.core.symbol.Symbol):\n",
    "            raise NotImplementedError(\"edge_to_sym must be a dictionary of edges to sympy symbols in the form {('v_1, 'v_2'): l_i} where l_i is a sympy symbol and 'v_1' and 'v_2' are the ids of vertices.\")\n",
    "\n",
    "    if not isinstance(expression, (sp.core.mul.Mul, sp.core.numbers.Integer)):\n",
    "        raise NotImplementedError(\"expression must be a sympy expression\")\n",
    "    if not isinstance(num_samples, int):\n",
    "        raise NotImplementedError(\"num_samples must be an int\")\n",
    "\n",
    "    datapoints = []\n",
    "    for i in tqdm.tqdm(range(num_samples)):\n",
    "        new_edge_to_weight = edges_to_random_weight_dict(list(edge_to_sym.keys()), seed=i)\n",
    "        new_sym_to_weight = make_sym_to_weight(new_edge_to_weight, edge_to_sym)\n",
    "        new_datapoint = expression.subs(new_sym_to_weight)\n",
    "        datapoints.append(new_datapoint)\n",
    "    return datapoints"
   ]
  },
  {
   "cell_type": "code",
   "execution_count": null,
   "metadata": {},
   "outputs": [],
   "source": [
    "expression = "
   ]
  },
  {
   "cell_type": "code",
   "execution_count": null,
   "metadata": {},
   "outputs": [],
   "source": [
    "num_samples = 100\n",
    "\n",
    "datapoints = []\n",
    "for i in tqdm.tqdm(range(num_samples)):\n",
    "    new_sym_to_weight = k3_2t.make_sym_to_weight\n",
    "    new_datapoint = expression.subs(new_sym_to_weight)\n",
    "    datapoints.append(new_datapoint)\n",
    "return datapoints"
   ]
  }
 ],
 "metadata": {
  "kernelspec": {
   "display_name": "linearframework",
   "language": "python",
   "name": "python3"
  },
  "language_info": {
   "codemirror_mode": {
    "name": "ipython",
    "version": 3
   },
   "file_extension": ".py",
   "mimetype": "text/x-python",
   "name": "python",
   "nbconvert_exporter": "python",
   "pygments_lexer": "ipython3",
   "version": "3.12.4"
  }
 },
 "nbformat": 4,
 "nbformat_minor": 2
}
