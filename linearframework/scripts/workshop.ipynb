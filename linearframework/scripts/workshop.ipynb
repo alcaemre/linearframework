{
 "cells": [
  {
   "cell_type": "code",
   "execution_count": 2,
   "metadata": {},
   "outputs": [],
   "source": [
    "import sympy as sp\n",
    "import networkx as nx\n",
    "import numpy as np\n",
    "from math import factorial\n",
    "\n",
    "import linearframework.graph_operations as g_ops\n",
    "import linearframework.ca_recurrence as ca\n",
    "import linearframework.linear_framework_results as lfr"
   ]
  },
  {
   "cell_type": "markdown",
   "metadata": {},
   "source": [
    "## TODO\n",
    "\n",
    "- [ ] instructions for how to quickly calculate many datapoints of a graph\n",
    "- [x] tests for explicit method for k-th moment of the fpt\n",
    "- [x] updated raises tests for gas.generalized_randomness_parameter(), ca.generate_sym_laplacian, g_ops.dict_to_graph()\n",
    "- [ ] splitting probability\n",
    "- [ ] conditional mean first passage time\n"
   ]
  },
  {
   "cell_type": "code",
   "execution_count": 3,
   "metadata": {},
   "outputs": [],
   "source": [
    "k3_edge_to_weight = {\n",
    "    ('1', '2'): 1,\n",
    "    ('1', '3'): 2,\n",
    "    ('2', '1'): 3,\n",
    "    ('2', '3'): 4,\n",
    "    ('3', '1'): 5,\n",
    "    ('3', '2'): 6\n",
    "}\n",
    "\n",
    "k3 = g_ops.dict_to_graph(k3_edge_to_weight)\n",
    "\n",
    "k3_edge_to_sym = g_ops.edge_to_sym_from_edge_to_weight(k3_edge_to_weight)\n",
    "\n",
    "mfpt_1_3 = lfr.k_moment_fpt_expression(k3_edge_to_weight, k3_edge_to_sym, '1', '3', 1)"
   ]
  },
  {
   "cell_type": "code",
   "execution_count": 7,
   "metadata": {},
   "outputs": [
    {
     "data": {
      "text/plain": [
       "{l_1: 1, l_2: 2, l_3: 3, l_4: 4, l_5: 5, l_6: 6}"
      ]
     },
     "execution_count": 7,
     "metadata": {},
     "output_type": "execute_result"
    }
   ],
   "source": [
    "def make_sym_to_weight(edge_to_weight, edge_to_sym):\n",
    "    \"\"\"takes an edge-to-weight dict and an edge-to-sym dict and makes a dictionary where the symbol of an edge points to the weight pointed to by the same edge.\n",
    "\n",
    "    Args:\n",
    "        edge_to_weight (dict[tuple[str]: float]): dict of edges in form {('v_1', 'v_2): w} where w is some positive number\n",
    "        edge_to_sym (dict[tuple[str]: float]): dict of edges in form {('v_1', 'v_2): l} where l is some sympy symbol\n",
    "\n",
    "    Returns:\n",
    "        dict[sp.core.symbol.Symbol: float]: symbol_to_float_dict\n",
    "    \"\"\"\n",
    "    if not isinstance(edge_to_weight, dict):\n",
    "        raise NotImplementedError(\"edge_to_weight must be a dictionary in the form {('v_1, 'v_2'): w} where w is a positive number and 'v_1' and 'v_2' are the ids of vertices.\")\n",
    "    for key in edge_to_weight.keys():\n",
    "        if not isinstance(key, tuple) or not isinstance(key[0], str) or not isinstance(key[1], str) or len(key) != 2:\n",
    "            raise NotImplementedError(\"edge_to_weight must be a dictionary in the form {('v_1, 'v_2'): w} where w is a positive number and 'v_1' and 'v_2' are the ids of vertices.\")\n",
    "        if not isinstance(edge_to_weight[key], (float, int)):\n",
    "            raise NotImplementedError(\"edge_to_weight must be a dictionary in the form {('v_1, 'v_2'): w} where w is a positive number and 'v_1' and 'v_2' are the ids of vertices.\")\n",
    "    \n",
    "    if not isinstance(edge_to_sym, dict):\n",
    "        raise NotImplementedError(\"edge_to_sym must be a dictionary of edges to sympy symbols in the form {('v_1, 'v_2'): l_i} where l_i is a sympy symbol and 'v_1' and 'v_2' are the ids of vertices.\")\n",
    "    for key in edge_to_sym.keys():\n",
    "        if not isinstance(key, tuple) or not isinstance(key[0], str) or not isinstance(key[1], str) or len(key) != 2:\n",
    "            raise NotImplementedError(\"edge_to_sym must be a dictionary of edges to sympy symbols in the form {('v_1, 'v_2'): l_i} where l_i is a sympy symbol and 'v_1' and 'v_2' are the ids of vertices.\")\n",
    "        if not isinstance(edge_to_sym[key], sp.core.symbol.Symbol):\n",
    "            raise NotImplementedError(\"edge_to_sym must be a dictionary of edges to sympy symbols in the form {('v_1, 'v_2'): l_i} where l_i is a sympy symbol and 'v_1' and 'v_2' are the ids of vertices.\")\n",
    "\n",
    "    sym_to_weight = {}\n",
    "    for edge in edge_to_weight.keys():\n",
    "        sym_to_weight[edge_to_sym[edge]] = edge_to_weight[edge]\n",
    "    return sym_to_weight\n",
    "\n",
    "symbol_to_weight = make_sym_to_weight(k3_edge_to_weight, k3_edge_to_sym)\n",
    "\n",
    "symbol_to_weight"
   ]
  },
  {
   "cell_type": "code",
   "execution_count": 5,
   "metadata": {},
   "outputs": [
    {
     "data": {
      "text/latex": [
       "$\\displaystyle \\frac{4}{9}$"
      ],
      "text/plain": [
       "4/9"
      ]
     },
     "execution_count": 5,
     "metadata": {},
     "output_type": "execute_result"
    }
   ],
   "source": [
    "mfpt_1_3.subs(symbol_to_weight)"
   ]
  },
  {
   "cell_type": "code",
   "execution_count": 17,
   "metadata": {},
   "outputs": [
    {
     "data": {
      "text/plain": [
       "{('1', '2'): 0.3177840006884067,\n",
       " ('1', '3'): 20.986835607646604,\n",
       " ('2', '1'): 0.001001581395585897,\n",
       " ('2', '3'): 0.06516215458215692,\n",
       " ('3', '1'): 0.0075951323286823896,\n",
       " ('3', '2'): 0.0035812246787002297}"
      ]
     },
     "execution_count": 17,
     "metadata": {},
     "output_type": "execute_result"
    }
   ],
   "source": [
    "def edges_to_random_weight_dict(edges, seed=None):\n",
    "    \"\"\"given a list (or other iterable) of edges in the form ('v_1', 'v_2'),\n",
    "    makes a dictionary with the edges as keys pointing at random weights\n",
    "    sampled from the range [10**(-3), 10**6]\n",
    "\n",
    "    Args:\n",
    "        edges (iterable[tuple[str]]): iterable containing the edges\n",
    "\n",
    "    Returns:\n",
    "        dict[tuple[str]: float]: _description_\n",
    "    \"\"\"\n",
    "    np.random.seed(seed)\n",
    "    edge_to_weight = {}\n",
    "    for edge in edges:\n",
    "        edge_to_weight[edge] = 10 ** ((6 * np.random.rand()) - 3)\n",
    "    return edge_to_weight\n",
    "\n",
    "edges_to_random_weight_dict(k3_edge_to_weight.keys(), 1)"
   ]
  }
 ],
 "metadata": {
  "kernelspec": {
   "display_name": "linearframework",
   "language": "python",
   "name": "python3"
  },
  "language_info": {
   "codemirror_mode": {
    "name": "ipython",
    "version": 3
   },
   "file_extension": ".py",
   "mimetype": "text/x-python",
   "name": "python",
   "nbconvert_exporter": "python",
   "pygments_lexer": "ipython3",
   "version": "3.12.4"
  }
 },
 "nbformat": 4,
 "nbformat_minor": 2
}
