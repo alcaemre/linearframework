{
 "cells": [
  {
   "cell_type": "code",
   "execution_count": 2,
   "metadata": {},
   "outputs": [],
   "source": [
    "import sympy as sp\n",
    "import networkx as nx\n",
    "import numpy as np\n",
    "from math import factorial\n",
    "import matplotlib.pyplot as plt\n",
    "import tqdm\n",
    "\n",
    "import linearframework.graph_operations as g_ops\n",
    "import linearframework.ca_recurrence as ca\n",
    "import linearframework.linear_framework_results as lfr\n",
    "import linearframework.gen_graphs as gen"
   ]
  },
  {
   "cell_type": "markdown",
   "metadata": {},
   "source": [
    "## Implementing LinearFrameworkGraph class\n",
    "\n",
    "input: \n",
    "- list of edges\n",
    "generates:\n",
    "- [x] edge_to_sym dictionary\n",
    "- [x] symbolic laplacian from  edge_to_sym\n",
    "- [x] node list\n",
    "- [x] terminal node list\n",
    "- [ ] nx.digraph of graph (unweighted)"
   ]
  },
  {
   "cell_type": "code",
   "execution_count": 3,
   "metadata": {},
   "outputs": [],
   "source": [
    "k3t_edges = [\n",
    "    ('1', '2'),\n",
    "    ('1', '3'),\n",
    "    ('2', '1'),\n",
    "    ('2', '3'),\n",
    "    ('3', '1'),\n",
    "    ('3', '2'),\n",
    "    ('2', '4'),\n",
    "    ('3', '5')\n",
    "]"
   ]
  },
  {
   "cell_type": "code",
   "execution_count": 4,
   "metadata": {},
   "outputs": [],
   "source": [
    "def nodes_from_edges(edges):\n",
    "    nodes = []\n",
    "    for edge in edges:\n",
    "        if edge[0] not in nodes:\n",
    "            nodes.append(edge[0])\n",
    "        if edge[1] not in nodes:\n",
    "            nodes.append(edge[1])\n",
    "    return nodes\n",
    "\n",
    "k3t_nodes = nodes_from_edges(k3t_edges)"
   ]
  },
  {
   "cell_type": "code",
   "execution_count": 5,
   "metadata": {},
   "outputs": [],
   "source": [
    "def find_terminal_nodes(edges, nodes):\n",
    "    non_terminal_vertices = []\n",
    "    for edge in edges:\n",
    "        if edge[0] not in non_terminal_vertices:\n",
    "            non_terminal_vertices.append(edge[0])\n",
    "\n",
    "    terminal_vertices = []\n",
    "    for node in nodes:\n",
    "        if node not in non_terminal_vertices:\n",
    "            terminal_vertices.append(node)\n",
    "\n",
    "    return terminal_vertices\n",
    "\n",
    "terminal_nodes = find_terminal_nodes(k3t_edges, k3t_nodes)"
   ]
  },
  {
   "cell_type": "code",
   "execution_count": 6,
   "metadata": {},
   "outputs": [],
   "source": [
    "def generate_sym_laplacian(edge_to_sym, nodes):\n",
    "    sym_lap = []\n",
    "    for i in range(len(nodes)):\n",
    "        sym_lap.append([])\n",
    "        for j in range(len(nodes)):\n",
    "            sym_lap[i].append(0)\n",
    "    \n",
    "    for edge in list(edge_to_sym.keys()):\n",
    "        i = nodes.index(edge[0])\n",
    "        j = nodes.index(edge[1])\n",
    "\n",
    "        sym_lap[i][j] = -edge_to_sym[edge]\n",
    "        sym_lap[i][i] = sym_lap[i][i] + (- sym_lap[i][j])\n",
    "\n",
    "    return sp.Matrix(sym_lap)"
   ]
  },
  {
   "cell_type": "code",
   "execution_count": 7,
   "metadata": {},
   "outputs": [],
   "source": [
    "class LinearFrameworkGraph:\n",
    "    def __init__(self, edges):\n",
    "        self.edges=edges\n",
    "        self.edge_to_sym = g_ops.edge_to_sym_from_edges(self.edges)\n",
    "        self.nodes = nodes_from_edges(self.edges)\n",
    "        self.terminal_nodes = find_terminal_nodes(self.edges, self.nodes)\n",
    "\n",
    "        self.sym_lap = generate_sym_laplacian(self.edge_to_sym, self.nodes)\n",
    "\n",
    "        self.nx_graph = nx.DiGraph()\n",
    "        self.nx_graph.add_edges_from(edges)\n",
    "\n",
    "\n",
    "k3t = LinearFrameworkGraph(k3t_edges)"
   ]
  },
  {
   "cell_type": "code",
   "execution_count": 8,
   "metadata": {},
   "outputs": [
    {
     "data": {
      "text/plain": [
       "['1', '2', '3', '4', '5']"
      ]
     },
     "execution_count": 8,
     "metadata": {},
     "output_type": "execute_result"
    }
   ],
   "source": [
    "k3t.nodes"
   ]
  },
  {
   "cell_type": "code",
   "execution_count": 9,
   "metadata": {},
   "outputs": [
    {
     "data": {
      "text/plain": [
       "\"{('1', '2'): l_1, ('1', '3'): l_2, ('2', '1'): l_3, ('2', '3'): l_4, ('3', '1'): l_5, ('3', '2'): l_6, ('2', '4'): l_7, ('3', '5'): l_8}\""
      ]
     },
     "execution_count": 9,
     "metadata": {},
     "output_type": "execute_result"
    }
   ],
   "source": [
    "str(k3t.edge_to_sym)"
   ]
  },
  {
   "cell_type": "code",
   "execution_count": 25,
   "metadata": {},
   "outputs": [
    {
     "data": {
      "text/plain": [
       "[('1', '2'),\n",
       " ('1', '3'),\n",
       " ('2', '1'),\n",
       " ('2', '3'),\n",
       " ('3', '1'),\n",
       " ('3', '2'),\n",
       " ('2', '4'),\n",
       " ('3', '5')]"
      ]
     },
     "execution_count": 25,
     "metadata": {},
     "output_type": "execute_result"
    }
   ],
   "source": [
    "k3t.edges"
   ]
  },
  {
   "cell_type": "code",
   "execution_count": 11,
   "metadata": {},
   "outputs": [
    {
     "data": {
      "text/plain": [
       "['4', '5']"
      ]
     },
     "execution_count": 11,
     "metadata": {},
     "output_type": "execute_result"
    }
   ],
   "source": [
    "k3t.terminal_nodes"
   ]
  },
  {
   "cell_type": "code",
   "execution_count": 26,
   "metadata": {},
   "outputs": [
    {
     "data": {
      "text/plain": [
       "'Matrix([[l_1 + l_2, -l_1, -l_2, 0, 0], [-l_3, l_3 + l_4 + l_7, -l_4, -l_7, 0], [-l_5, -l_6, l_5 + l_6 + l_8, 0, -l_8], [0, 0, 0, 0, 0], [0, 0, 0, 0, 0]])'"
      ]
     },
     "execution_count": 26,
     "metadata": {},
     "output_type": "execute_result"
    }
   ],
   "source": [
    "str(k3t.sym_lap)"
   ]
  },
  {
   "cell_type": "code",
   "execution_count": 13,
   "metadata": {},
   "outputs": [],
   "source": [
    "k3_edges = [\n",
    "    ('1', '2'),\n",
    "    ('1', '3'),\n",
    "    ('2', '1'),\n",
    "    ('2', '3'),\n",
    "    ('3', '1'),\n",
    "    ('3', '2'),\n",
    "]\n",
    "\n",
    "k3 = LinearFrameworkGraph(k3_edges)"
   ]
  },
  {
   "cell_type": "code",
   "execution_count": 14,
   "metadata": {},
   "outputs": [
    {
     "data": {
      "text/plain": [
       "['1', '2', '3']"
      ]
     },
     "execution_count": 14,
     "metadata": {},
     "output_type": "execute_result"
    }
   ],
   "source": [
    "k3.nodes"
   ]
  },
  {
   "cell_type": "code",
   "execution_count": 21,
   "metadata": {},
   "outputs": [
    {
     "data": {
      "text/plain": [
       "[('1', '2'), ('1', '3'), ('2', '1'), ('2', '3'), ('3', '1'), ('3', '2')]"
      ]
     },
     "execution_count": 21,
     "metadata": {},
     "output_type": "execute_result"
    }
   ],
   "source": [
    "k3.edges"
   ]
  },
  {
   "cell_type": "code",
   "execution_count": 22,
   "metadata": {},
   "outputs": [
    {
     "data": {
      "text/plain": [
       "\"{('1', '2'): l_1, ('1', '3'): l_2, ('2', '1'): l_3, ('2', '3'): l_4, ('3', '1'): l_5, ('3', '2'): l_6}\""
      ]
     },
     "execution_count": 22,
     "metadata": {},
     "output_type": "execute_result"
    }
   ],
   "source": [
    "str(k3.edge_to_sym)"
   ]
  },
  {
   "cell_type": "code",
   "execution_count": 17,
   "metadata": {},
   "outputs": [
    {
     "data": {
      "text/plain": [
       "[]"
      ]
     },
     "execution_count": 17,
     "metadata": {},
     "output_type": "execute_result"
    }
   ],
   "source": [
    "k3.terminal_nodes"
   ]
  },
  {
   "cell_type": "code",
   "execution_count": 23,
   "metadata": {},
   "outputs": [
    {
     "data": {
      "text/plain": [
       "'Matrix([[l_1 + l_2, -l_1, -l_2], [-l_3, l_3 + l_4, -l_4], [-l_5, -l_6, l_5 + l_6]])'"
      ]
     },
     "execution_count": 23,
     "metadata": {},
     "output_type": "execute_result"
    }
   ],
   "source": [
    "str(k3.sym_lap)"
   ]
  },
  {
   "cell_type": "code",
   "execution_count": 19,
   "metadata": {},
   "outputs": [
    {
     "data": {
      "text/plain": [
       "__main__.LinearFrameworkGraph"
      ]
     },
     "execution_count": 19,
     "metadata": {},
     "output_type": "execute_result"
    }
   ],
   "source": [
    "type(k3)"
   ]
  },
  {
   "cell_type": "code",
   "execution_count": 20,
   "metadata": {},
   "outputs": [
    {
     "data": {
      "text/plain": [
       "(1,\n",
       " Matrix([\n",
       " [1, 0, 0],\n",
       " [0, 1, 0],\n",
       " [0, 0, 1]]))"
      ]
     },
     "execution_count": 20,
     "metadata": {},
     "output_type": "execute_result"
    }
   ],
   "source": [
    "ca.get_sigma_Q_k(k3.sym_lap, 0)"
   ]
  },
  {
   "cell_type": "code",
   "execution_count": 24,
   "metadata": {},
   "outputs": [
    {
     "data": {
      "text/plain": [
       "networkx.classes.digraph.DiGraph"
      ]
     },
     "execution_count": 24,
     "metadata": {},
     "output_type": "execute_result"
    }
   ],
   "source": [
    "type(k3.nx_graph)"
   ]
  }
 ],
 "metadata": {
  "kernelspec": {
   "display_name": "linearframework",
   "language": "python",
   "name": "python3"
  },
  "language_info": {
   "codemirror_mode": {
    "name": "ipython",
    "version": 3
   },
   "file_extension": ".py",
   "mimetype": "text/x-python",
   "name": "python",
   "nbconvert_exporter": "python",
   "pygments_lexer": "ipython3",
   "version": "3.12.4"
  }
 },
 "nbformat": 4,
 "nbformat_minor": 2
}
