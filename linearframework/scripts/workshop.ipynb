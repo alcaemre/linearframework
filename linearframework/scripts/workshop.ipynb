{
 "cells": [
  {
   "cell_type": "code",
   "execution_count": 33,
   "metadata": {},
   "outputs": [],
   "source": [
    "import sympy as sp\n",
    "import networkx as nx\n",
    "import numpy as np\n",
    "from math import factorial\n",
    "\n",
    "import linearframework.graph_operations as g_ops\n",
    "import linearframework.ca_recurrence as ca\n",
    "import linearframework.linear_framework_results as lfr"
   ]
  },
  {
   "cell_type": "markdown",
   "metadata": {},
   "source": [
    "## TODO\n",
    "\n",
    "- [ ] instructions for how to quickly calculate many datapoints of a graph\n",
    "- [ ] tests for generalized_aldous_schepp -- just that they are equal for erlang processes, and raises\n",
    "- [ ] raises tests for k-th moment expression calculator\n",
    "- [ ] splitting probability\n",
    "- [ ] conditional mean first passage time\n"
   ]
  },
  {
   "cell_type": "code",
   "execution_count": 34,
   "metadata": {},
   "outputs": [
    {
     "data": {
      "text/latex": [
       "$\\displaystyle \\left[\\begin{matrix}1_{2} + 1_{3} & - 1_{2} & - 1_{3}\\\\- 2_{1} & 2_{1} + 2_{3} & - 2_{3}\\\\- 3_{1} & - 3_{2} & 3_{1} + 3_{2}\\end{matrix}\\right]$"
      ],
      "text/plain": [
       "Matrix([\n",
       "[1_2 + 1_3,      -1_2,      -1_3],\n",
       "[     -2_1, 2_1 + 2_3,      -2_3],\n",
       "[     -3_1,      -3_2, 3_1 + 3_2]])"
      ]
     },
     "execution_count": 34,
     "metadata": {},
     "output_type": "execute_result"
    }
   ],
   "source": [
    "g_dict = {\n",
    "    ('1', '2'): 1,\n",
    "    ('1', '3'): 2,\n",
    "    ('2', '1'): 3,\n",
    "    ('2', '3'): 4,\n",
    "    ('3', '1'): 5,\n",
    "    ('3', '2'): 6\n",
    "}\n",
    "\n",
    "k3 = g_ops.dict_to_graph(g_dict)\n",
    "\n",
    "k3_sym_lap = ca.graph_to_sym_laplacian(k3)\n",
    "\n",
    "k3_sym_lap"
   ]
  },
  {
   "cell_type": "code",
   "execution_count": 35,
   "metadata": {},
   "outputs": [
    {
     "data": {
      "text/plain": [
       "'1_2 + 2_1 + 2_3'"
      ]
     },
     "execution_count": 35,
     "metadata": {},
     "output_type": "execute_result"
    }
   ],
   "source": [
    "n = k3_sym_lap.rows\n",
    "Q_n_minus_2 = ca.get_sigma_Q_k(k3_sym_lap, n-2)[1]\n",
    "\n",
    "str(lfr.ca_kth_moment_numerator(k3,  k3_sym_lap, Q_n_minus_2, '1', '3', 1))"
   ]
  },
  {
   "cell_type": "code",
   "execution_count": 36,
   "metadata": {},
   "outputs": [
    {
     "data": {
      "text/plain": [
       "'2*1_2*2_1 + 2*1_2*(1_2 + 1_3) + 2*1_2*(2_1 + 2_3) + 2*(2_1 + 2_3)**2'"
      ]
     },
     "execution_count": 36,
     "metadata": {},
     "output_type": "execute_result"
    }
   ],
   "source": [
    "str(sp.simplify(lfr.ca_kth_moment_numerator(k3,  k3_sym_lap, Q_n_minus_2, '1', '3', 2)))"
   ]
  },
  {
   "cell_type": "code",
   "execution_count": 37,
   "metadata": {},
   "outputs": [
    {
     "data": {
      "text/plain": [
       "'6*1_2**2*2_1 + 6*1_2*2_1*(1_2 + 1_3) + 12*1_2*2_1*(2_1 + 2_3) + 6*1_2*(1_2 + 1_3)**2 + 6*1_2*(1_2 + 1_3)*(2_1 + 2_3) + 6*1_2*(2_1 + 2_3)**2 + 6*(2_1 + 2_3)**3'"
      ]
     },
     "execution_count": 37,
     "metadata": {},
     "output_type": "execute_result"
    }
   ],
   "source": [
    "str(sp.simplify(lfr.ca_kth_moment_numerator(k3,  k3_sym_lap, Q_n_minus_2, '1', '3', 3)))"
   ]
  },
  {
   "cell_type": "code",
   "execution_count": 38,
   "metadata": {},
   "outputs": [],
   "source": [
    "erlang_weight = 10 ** (6 * np.random.rand() - 3)\n",
    "e_5_dict = {\n",
    "    ('1', '2'): erlang_weight,\n",
    "    ('2', '3'): erlang_weight,\n",
    "    ('3', '4'): erlang_weight,\n",
    "    ('4', '5'): erlang_weight\n",
    "}\n",
    "e_5 = g_ops.dict_to_graph(e_5_dict)\n",
    "\n",
    "e_5_sym_lap = ca.graph_to_sym_laplacian(e_5)\n",
    "\n",
    "n = e_5_sym_lap.rows\n",
    "\n",
    "Q_n_minus_2 = ca.get_sigma_Q_k(e_5_sym_lap, n - 2)[1]"
   ]
  },
  {
   "cell_type": "code",
   "execution_count": 49,
   "metadata": {},
   "outputs": [
    {
     "data": {
      "text/plain": [
       "sympy.core.add.Add"
      ]
     },
     "execution_count": 49,
     "metadata": {},
     "output_type": "execute_result"
    }
   ],
   "source": [
    "type(lfr.ca_kth_moment_numerator(e_5, e_5_sym_lap, Q_n_minus_2, '1', '5', 2))"
   ]
  },
  {
   "cell_type": "code",
   "execution_count": 44,
   "metadata": {},
   "outputs": [
    {
     "data": {
      "text/latex": [
       "$\\displaystyle \\frac{5}{4}$"
      ],
      "text/plain": [
       "5/4"
      ]
     },
     "execution_count": 44,
     "metadata": {},
     "output_type": "execute_result"
    }
   ],
   "source": [
    "def generalized_randomness_parameter(graph,  Lap, Q_n_minus_2, source, target, moment):\n",
    "    \"\"\"calculates the symbolic expression of the moment-th moment of the graph over the mean of the graph to the power of moment\n",
    "\n",
    "    Args:\n",
    "        graph (nx.DiGraph): networkx graph of interent\n",
    "        Lap (sympy.matrices.dense.MutableDenseMatrix): symbolic laplacian of graph\n",
    "        Q_n_minus_2 (sympy.matrices.dense.MutableDenseMatrix): Q_(n-2) matrix found using the CA recurrence\n",
    "        source (str): id of source vertex\n",
    "        target (str): id of target vertex\n",
    "        moment (int): moment of interest\n",
    "\n",
    "    Returns:\n",
    "        sympy.core.add.Add: symbolic expression of the moment-th moment of the graph over the mean of the graph to the power of moment\n",
    "    \"\"\"\n",
    "    numerator = lfr.ca_kth_moment_numerator(graph,  Lap, Q_n_minus_2, source, target, moment)\n",
    "    denominator = lfr.ca_kth_moment_numerator(graph,  Lap, Q_n_minus_2, source, target, 1) ** moment\n",
    "    return numerator / denominator\n",
    "\n",
    "s_2 = generalized_randomness_parameter(e_5, e_5_sym_lap, Q_n_minus_2, '1', '5', 2)\n",
    "\n",
    "free_symbols = s_2.free_symbols\n",
    "\n",
    "e_r = sp.symbols('e_r')\n",
    "\n",
    "symbol_dict = {}\n",
    "for free_symbol in free_symbols:\n",
    "    symbol_dict[free_symbol] = e_r\n",
    "\n",
    "s_2.subs(symbol_dict)"
   ]
  },
  {
   "cell_type": "code",
   "execution_count": 48,
   "metadata": {},
   "outputs": [
    {
     "data": {
      "text/plain": [
       "1.25"
      ]
     },
     "execution_count": 48,
     "metadata": {},
     "output_type": "execute_result"
    }
   ],
   "source": [
    "def guzman_alca_equation(n, m):\n",
    "    \"\"\"\n",
    "    calculates the m-th generalized randomness parameter of an erlang process on n vertices\n",
    "\n",
    "    Args:\n",
    "        n (int): the number of vertices in the erlang process.\n",
    "        m (int): the moment in the numerator, and the exponent in the denominator of the generalized randomness parameter.\n",
    "\n",
    "    Returns:\n",
    "        float: the m-th generalized randomness parameter of an erlang process on n vertices\n",
    "    \"\"\"\n",
    "    numerator = factorial(n + m - 2)\n",
    "\n",
    "    denominator = factorial(n - 2)\n",
    "    denominator *= (n-1)**m\n",
    "    return numerator / denominator\n",
    "\n",
    "guzman_alca_equation(5, 2)"
   ]
  },
  {
   "cell_type": "code",
   "execution_count": 55,
   "metadata": {},
   "outputs": [
    {
     "data": {
      "text/plain": [
       "{('1', '2'): 1, ('2', '3'): 1, ('3', '4'): 1, ('4', '5'): 1, ('5', '6'): 1}"
      ]
     },
     "execution_count": 55,
     "metadata": {},
     "output_type": "execute_result"
    }
   ],
   "source": [
    "def gen_erlang_process_dict(number_of_states, rate=None):\n",
    "    \"\"\"generates the edge-to-weight dictionary of an erlang process. \n",
    "    The uniform rate can be pre-set, or generated randomly\n",
    "\n",
    "    Args:\n",
    "        number_of_states (int): number of states\n",
    "        rate (float, optional): uniform rate. Defaults to None.\n",
    "\n",
    "    Returns:\n",
    "        dict[tuple[str]: float]: edge-to-weight dictionary of an erlang process\n",
    "    \"\"\"\n",
    "    if rate == None:\n",
    "        rate = 10 ** (6 * np.random.rand() - 3)\n",
    "    \n",
    "    erlang_dict = {}\n",
    "    for i in range(1, (number_of_states + 1)):\n",
    "        erlang_dict[(f'{i}', f'{i + 1}')] = rate\n",
    "\n",
    "    return erlang_dict\n",
    "\n",
    "gen_erlang_process_dict(5, rate=1)"
   ]
  }
 ],
 "metadata": {
  "kernelspec": {
   "display_name": "linearframework",
   "language": "python",
   "name": "python3"
  },
  "language_info": {
   "codemirror_mode": {
    "name": "ipython",
    "version": 3
   },
   "file_extension": ".py",
   "mimetype": "text/x-python",
   "name": "python",
   "nbconvert_exporter": "python",
   "pygments_lexer": "ipython3",
   "version": "3.12.4"
  }
 },
 "nbformat": 4,
 "nbformat_minor": 2
}
