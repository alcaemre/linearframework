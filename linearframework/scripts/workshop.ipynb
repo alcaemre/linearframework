{
 "cells": [
  {
   "cell_type": "code",
   "execution_count": 17,
   "metadata": {},
   "outputs": [],
   "source": [
    "import sympy as sp\n",
    "import networkx as nx\n",
    "import numpy as np\n",
    "from math import factorial\n",
    "import matplotlib.pyplot as plt\n",
    "import tqdm\n",
    "\n",
    "# import linearframework.graph_operations as g_ops\n",
    "import linearframework.ca_recurrence as ca\n",
    "import linearframework.linear_framework_results as lfr\n",
    "import linearframework.gen_graphs as gen\n",
    "from linearframework.linear_framework_graph import LinearFrameworkGraph"
   ]
  },
  {
   "cell_type": "markdown",
   "metadata": {},
   "source": [
    "## Implementing LinearFrameworkGraph class\n",
    "\n",
    "input: \n",
    "- list of edges\n",
    "generates:\n",
    "- [x] edge_to_sym dictionary\n",
    "- [x] symbolic laplacian from  edge_to_sym\n",
    "- [x] node list\n",
    "- [x] terminal node list\n",
    "- [ ] nx.digraph of graph (unweighted)"
   ]
  },
  {
   "cell_type": "code",
   "execution_count": 18,
   "metadata": {},
   "outputs": [],
   "source": [
    "k3_2t_edges = [\n",
    "    ('1', '2'),\n",
    "    ('1', '3'),\n",
    "    ('2', '1'),\n",
    "    ('2', '3'),\n",
    "    ('3', '1'),\n",
    "    ('3', '2'),\n",
    "    # ('2', '4'),\n",
    "    # ('3', '5')\n",
    "]\n",
    "\n",
    "k3_2t = LinearFrameworkGraph(k3_2t_edges)"
   ]
  },
  {
   "cell_type": "code",
   "execution_count": 19,
   "metadata": {},
   "outputs": [],
   "source": [
    "def generalized_randomness_parameter(graph, source, target, moment):\n",
    "    \"\"\"calculates the symbolic expression of the moment-th moment of the graph over the mean of the graph to the power of moment\n",
    "\n",
    "    Args:\n",
    "        edge_to_weight (dict[tuple[str]: float]): dict of edges in form {('v_1', 'v_2): w} where w is some positive number\n",
    "        edge_to_sym (dict[tuple[str]: sp.core.symbol.Symbol]): dict of edges in form {('v_1', 'v_2): l} where l is some sympy symbol\n",
    "        source (str): id of source vertex\n",
    "        target (str): id of target vertex\n",
    "        moment (int): moment of interest\n",
    "\n",
    "    Returns:\n",
    "        sympy.core.add.Add: symbolic expression of the moment-th moment of the graph over the mean of the graph to the power of moment\n",
    "    \"\"\"\n",
    "    if not isinstance(graph, LinearFrameworkGraph):\n",
    "        raise NotImplementedError(\"graph must be a LinearFrameworkGraph with no more than one terminal vertex\")\n",
    "    if len(graph.terminal_nodes) > 1:\n",
    "        raise NotImplementedError(\"graph must be a LinearFrameworkGraph with no more than one terminal vertex\")\n",
    "\n",
    "    if not isinstance(source, str) or source not in list(graph.nodes):\n",
    "        raise NotImplementedError(\"source must be a string and must be the id of a vertex in graph\")\n",
    "    if not isinstance(target, str) or target not in list(graph.nodes):\n",
    "        raise NotImplementedError(\"target must be a string and must be the id of a vertex in graph\")\n",
    "    if not isinstance(moment, int) or moment <= 0:\n",
    "        raise NotImplementedError(\"moment must be a natural number\")\n",
    "    \n",
    "    sym_lap = graph.sym_lap\n",
    "    n = len(graph.nodes)\n",
    "    Q_n_minus_2 = ca.get_sigma_Q_k(sym_lap, n-2)[1]\n",
    "    \n",
    "    numerator = lfr._ca_kth_moment_numerator(graph, Q_n_minus_2, source, target, moment)\n",
    "    denominator = lfr._ca_kth_moment_numerator(graph, Q_n_minus_2, source, target, 1) ** moment\n",
    "    return numerator / denominator"
   ]
  },
  {
   "cell_type": "code",
   "execution_count": null,
   "metadata": {},
   "outputs": [],
   "source": []
  },
  {
   "cell_type": "code",
   "execution_count": 20,
   "metadata": {},
   "outputs": [
    {
     "data": {
      "text/latex": [
       "$\\displaystyle 2$"
      ],
      "text/plain": [
       "2"
      ]
     },
     "execution_count": 20,
     "metadata": {},
     "output_type": "execute_result"
    }
   ],
   "source": [
    "n = 2\n",
    "erlang_edges = list(gen.gen_erlang_process_dict(n, rate=10).keys())\n",
    "erlang = LinearFrameworkGraph(erlang_edges)\n",
    "sym_generalized_randomness_param = generalized_randomness_parameter(erlang, '1', '2', 2)\n",
    "\n",
    "sym_generalized_randomness_param"
   ]
  },
  {
   "cell_type": "code",
   "execution_count": 21,
   "metadata": {},
   "outputs": [
    {
     "data": {
      "text/plain": [
       "2.0"
      ]
     },
     "execution_count": 21,
     "metadata": {},
     "output_type": "execute_result"
    }
   ],
   "source": [
    "free_symbols = sym_generalized_randomness_param.free_symbols\n",
    "\n",
    "e_r = sp.symbols('e_r')\n",
    "\n",
    "symbol_dict = {}\n",
    "for free_symbol in free_symbols:\n",
    "    symbol_dict[free_symbol] = e_r\n",
    "\n",
    "generalized_randomness_param = float(sym_generalized_randomness_param.subs(symbol_dict))\n",
    "\n",
    "generalized_randomness_param"
   ]
  },
  {
   "cell_type": "code",
   "execution_count": 22,
   "metadata": {},
   "outputs": [
    {
     "data": {
      "text/plain": [
       "{('1', '2'): 10, ('2', '3'): 10}"
      ]
     },
     "execution_count": 22,
     "metadata": {},
     "output_type": "execute_result"
    }
   ],
   "source": [
    "gen.gen_erlang_process_dict(3, rate=10)"
   ]
  }
 ],
 "metadata": {
  "kernelspec": {
   "display_name": "linearframework",
   "language": "python",
   "name": "python3"
  },
  "language_info": {
   "codemirror_mode": {
    "name": "ipython",
    "version": 3
   },
   "file_extension": ".py",
   "mimetype": "text/x-python",
   "name": "python",
   "nbconvert_exporter": "python",
   "pygments_lexer": "ipython3",
   "version": "3.12.4"
  }
 },
 "nbformat": 4,
 "nbformat_minor": 2
}
